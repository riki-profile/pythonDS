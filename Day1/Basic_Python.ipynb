{
 "cells": [
  {
   "cell_type": "markdown",
   "metadata": {},
   "source": [
    "# Learning Materials - Basic Syntax, Variables and Data Types\n",
    "---"
   ]
  },
  {
   "cell_type": "markdown",
   "metadata": {},
   "source": [
    "## **Basic Syntax**"
   ]
  },
  {
   "cell_type": "markdown",
   "metadata": {},
   "source": [
    "#### **Print**\n",
    "The print() function prints the specified message to the screen, or other standard output device.\n",
    "\n",
    "The message can be a string, or any other object, the object will be converted into a string before written to the screen"
   ]
  },
  {
   "cell_type": "code",
   "execution_count": 1,
   "metadata": {},
   "outputs": [
    {
     "name": "stdout",
     "output_type": "stream",
     "text": [
      "Hello, World!\n"
     ]
    }
   ],
   "source": [
    "print(\"Hello, World!\")"
   ]
  },
  {
   "cell_type": "markdown",
   "metadata": {},
   "source": [
    "#### **Python Indentation**\n",
    "\n",
    "Indentation refers to the spaces at the beginning of a code line.\n",
    "\n",
    "Where in other programming languages the indentation in code is for readability only, the indentation in Python is very important.\n",
    "\n",
    "Python uses indentation to indicate a block of code."
   ]
  },
  {
   "cell_type": "code",
   "execution_count": 2,
   "metadata": {},
   "outputs": [
    {
     "name": "stdout",
     "output_type": "stream",
     "text": [
      "Five is greater than two!\n"
     ]
    }
   ],
   "source": [
    "if 5 > 2:\n",
    "  print(\"Five is greater than two!\")"
   ]
  },
  {
   "cell_type": "markdown",
   "metadata": {},
   "source": [
    "Python will give you an error if you skip the indentation:"
   ]
  },
  {
   "cell_type": "code",
   "execution_count": 3,
   "metadata": {},
   "outputs": [
    {
     "ename": "IndentationError",
     "evalue": "expected an indented block after 'if' statement on line 1 (3793329317.py, line 2)",
     "output_type": "error",
     "traceback": [
      "\u001b[1;36m  Cell \u001b[1;32mIn[3], line 2\u001b[1;36m\u001b[0m\n\u001b[1;33m    print(\"Five is greater than two!\")\u001b[0m\n\u001b[1;37m    ^\u001b[0m\n\u001b[1;31mIndentationError\u001b[0m\u001b[1;31m:\u001b[0m expected an indented block after 'if' statement on line 1\n"
     ]
    }
   ],
   "source": [
    "if 5 > 2:\n",
    "print(\"Five is greater than two!\")"
   ]
  },
  {
   "cell_type": "markdown",
   "metadata": {},
   "source": [
    "#### **Comments**\n",
    "\n",
    "Python has commenting capability for the purpose of in-code documentation.\n",
    "\n",
    "Comments start with a #, and Python will render the rest of the line as a comment:"
   ]
  },
  {
   "cell_type": "code",
   "execution_count": 4,
   "metadata": {},
   "outputs": [
    {
     "name": "stdout",
     "output_type": "stream",
     "text": [
      "Hello, World!\n"
     ]
    }
   ],
   "source": [
    "# This is a comment.\n",
    "print(\"Hello, World!\")"
   ]
  },
  {
   "cell_type": "code",
   "execution_count": 5,
   "metadata": {},
   "outputs": [
    {
     "name": "stdout",
     "output_type": "stream",
     "text": [
      "Hello, World!\n"
     ]
    }
   ],
   "source": [
    "\"\"\"\n",
    "This is a comment\n",
    "written in\n",
    "more than just one line\n",
    "\"\"\"\n",
    "\n",
    "print(\"Hello, World!\")"
   ]
  },
  {
   "cell_type": "code",
   "execution_count": 6,
   "metadata": {},
   "outputs": [
    {
     "name": "stdout",
     "output_type": "stream",
     "text": [
      "Hello, World!\n"
     ]
    }
   ],
   "source": [
    "'''\n",
    "This is a comment\n",
    "written in\n",
    "more than just one line\n",
    "'''\n",
    "\n",
    "print('Hello, World!')"
   ]
  },
  {
   "cell_type": "markdown",
   "metadata": {},
   "source": [
    "## **Python Variables**\n",
    "\n",
    "In Python, variables are created when you assign a value to it:"
   ]
  },
  {
   "cell_type": "markdown",
   "metadata": {},
   "source": [
    "![image](data:image/png;base64,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)"
   ]
  },
  {
   "cell_type": "markdown",
   "metadata": {},
   "source": [
    "#### **Creating Variables**\n",
    "Python has no command for declaring a variable.\n",
    "\n",
    "A variable is created the moment you first assign a value to it."
   ]
  },
  {
   "cell_type": "code",
   "execution_count": 7,
   "metadata": {},
   "outputs": [],
   "source": [
    "x = 5\n",
    "y = \"Hello, World!\""
   ]
  },
  {
   "cell_type": "code",
   "execution_count": 8,
   "metadata": {},
   "outputs": [
    {
     "name": "stdout",
     "output_type": "stream",
     "text": [
      "Hello, World!\n"
     ]
    }
   ],
   "source": [
    "print(y)"
   ]
  },
  {
   "cell_type": "markdown",
   "metadata": {},
   "source": [
    "#### **Get the Type**\n",
    "\n",
    "Variables do not need to be declared with any particular type, and can even change type after they have been set."
   ]
  },
  {
   "cell_type": "code",
   "execution_count": 9,
   "metadata": {},
   "outputs": [],
   "source": [
    "x = 4      # x is of type int\n",
    "y = \"Rudy\" # x is now of type str"
   ]
  },
  {
   "cell_type": "code",
   "execution_count": 10,
   "metadata": {},
   "outputs": [
    {
     "data": {
      "text/plain": [
       "int"
      ]
     },
     "execution_count": 10,
     "metadata": {},
     "output_type": "execute_result"
    }
   ],
   "source": [
    "type(x)"
   ]
  },
  {
   "cell_type": "markdown",
   "metadata": {},
   "source": [
    "#### **Case-Sensitive**\n",
    "Variable names are case-sensitive."
   ]
  },
  {
   "cell_type": "code",
   "execution_count": 11,
   "metadata": {},
   "outputs": [
    {
     "name": "stdout",
     "output_type": "stream",
     "text": [
      "sally\n"
     ]
    }
   ],
   "source": [
    "a = \"Rudy\"\n",
    "A = 10\n",
    "\n",
    "print(a)"
   ]
  },
  {
   "cell_type": "markdown",
   "metadata": {},
   "source": [
    "A variable can have a short name (like x and y) or a more descriptive name (age, carname, total_volume). Rules for Python variables:\n",
    "- A variable name must start with a letter or the underscore character\n",
    "- A v- riable name cannot start with a number\n",
    "- A variable name can only contain alpha-numeric characters and underscores (A-z, 0-9, and _ )\n",
    "- Variable names are case-sensitive (age, Age and AGE are three different variables)\n",
    "- A variable name cannot be any of the Python keywords.\n",
    "\n",
    "```python\n",
    "myvar = \"John\"\n",
    "my_var = \"John\"\n",
    "_my_var = \"John\"\n",
    "myVar = \"John\"\n",
    "MYVAR = \"John\"\n",
    "myvar2 = \"John\"\n",
    "```\n",
    "\n",
    "The illegal variable names\n",
    "```python\n",
    "2myvar = \"John\"\n",
    "my-var = \"John\"\n",
    "my var = \"John\"\n",
    "```\n",
    "\n",
    "**Multi Words Variable Names**\n",
    "- camel case : `myVariableName = \"John\"`\n",
    "- pascal case : `MyVariableName = \"John\"`\n",
    "- snake case : `my_variable_name = \"John\"`"
   ]
  },
  {
   "cell_type": "markdown",
   "metadata": {},
   "source": [
    "#### **Assign Multiple Value**"
   ]
  },
  {
   "cell_type": "code",
   "execution_count": 12,
   "metadata": {},
   "outputs": [
    {
     "name": "stdout",
     "output_type": "stream",
     "text": [
      "Orange\n",
      "10\n",
      "Cherry\n"
     ]
    }
   ],
   "source": [
    "x, y, z = \"Orange\", 10, \"Cherry\"\n",
    "print(x)\n",
    "print(y)\n",
    "print(z)"
   ]
  },
  {
   "cell_type": "markdown",
   "metadata": {},
   "source": [
    "#### **Unpack a Collection**"
   ]
  },
  {
   "cell_type": "code",
   "execution_count": 13,
   "metadata": {},
   "outputs": [
    {
     "name": "stdout",
     "output_type": "stream",
     "text": [
      "apple\n",
      "banana\n",
      "cherry\n"
     ]
    }
   ],
   "source": [
    "fruits = [\"apple\", \"banana\", \"cherry\"]\n",
    "x, y, z = fruits\n",
    "print(x)\n",
    "print(y)\n",
    "print(z)"
   ]
  },
  {
   "cell_type": "markdown",
   "metadata": {},
   "source": [
    "#### **One Value to Multiple Variables**"
   ]
  },
  {
   "cell_type": "code",
   "execution_count": 14,
   "metadata": {},
   "outputs": [
    {
     "name": "stdout",
     "output_type": "stream",
     "text": [
      "Orange\n",
      "Orange\n",
      "Orange\n"
     ]
    }
   ],
   "source": [
    "x = y = z = \"Orange\"\n",
    "print(x)\n",
    "print(y)\n",
    "print(z)"
   ]
  },
  {
   "cell_type": "markdown",
   "metadata": {},
   "source": [
    "## **Data Types**"
   ]
  },
  {
   "cell_type": "markdown",
   "metadata": {},
   "source": [
    "![image](https://images.datacamp.com/image/upload/c_scale,f_auto,q_auto:best,w_700/v1512740202/Template_2_oxrskq.png)"
   ]
  },
  {
   "cell_type": "markdown",
   "metadata": {},
   "source": [
    "### **Python Number**"
   ]
  },
  {
   "cell_type": "markdown",
   "metadata": {},
   "source": [
    "#### **Integers**\n",
    "\n",
    "Int, or integer, is a whole number, positive or negative, without decimals, of unlimited length."
   ]
  },
  {
   "cell_type": "code",
   "execution_count": 15,
   "metadata": {},
   "outputs": [
    {
     "name": "stdout",
     "output_type": "stream",
     "text": [
      "<class 'int'>\n",
      "<class 'int'>\n",
      "<class 'int'>\n"
     ]
    }
   ],
   "source": [
    "x = 1\n",
    "y = 35656222554887711\n",
    "z = -3255522\n",
    "\n",
    "print(type(x))\n",
    "print(type(y))\n",
    "print(type(z))"
   ]
  },
  {
   "cell_type": "markdown",
   "metadata": {},
   "source": [
    "#### **Float**\n",
    "\n",
    "Float, or \"floating point number\" is a number, positive or negative, containing one or more decimals."
   ]
  },
  {
   "cell_type": "code",
   "execution_count": 16,
   "metadata": {},
   "outputs": [
    {
     "name": "stdout",
     "output_type": "stream",
     "text": [
      "<class 'float'>\n",
      "<class 'float'>\n",
      "<class 'float'>\n"
     ]
    }
   ],
   "source": [
    "x = 1.10\n",
    "y = 1.0\n",
    "z = -35.59\n",
    "\n",
    "print(type(x))\n",
    "print(type(y))\n",
    "print(type(z))"
   ]
  },
  {
   "cell_type": "markdown",
   "metadata": {},
   "source": [
    "### **Strings**\n",
    "Strings are sequences of character data. The string type in Python is called str.\n",
    "\n",
    "String literals may be delimited using either single or double quotes. All the characters between the opening delimiter and matching closing delimiter are part of the string:"
   ]
  },
  {
   "cell_type": "code",
   "execution_count": 17,
   "metadata": {},
   "outputs": [
    {
     "name": "stdout",
     "output_type": "stream",
     "text": [
      "Hello\n",
      "Hello\n"
     ]
    }
   ],
   "source": [
    "print(\"Hello\")\n",
    "print('Hello')"
   ]
  },
  {
   "cell_type": "code",
   "execution_count": 18,
   "metadata": {},
   "outputs": [
    {
     "name": "stdout",
     "output_type": "stream",
     "text": [
      "Hello\n"
     ]
    }
   ],
   "source": [
    "# we could assign into variable\n",
    "a = \"Hello\"\n",
    "print(a)"
   ]
  },
  {
   "cell_type": "code",
   "execution_count": 19,
   "metadata": {},
   "outputs": [],
   "source": [
    "# Multiple Line String\n",
    "a = \"\"\"Lorem ipsum dolor sit amet,\n",
    "consectetur adipiscing elit,\n",
    "sed do eiusmod tempor incididunt\n",
    "ut labore et dolore magna aliqua.\"\"\"\n",
    "\n",
    "b = '''Lorem ipsum dolor sit amet,\n",
    "consectetur adipiscing elit,\n",
    "sed do eiusmod tempor incididunt\n",
    "ut labore et dolore magna aliqua.'''"
   ]
  },
  {
   "cell_type": "code",
   "execution_count": 20,
   "metadata": {},
   "outputs": [
    {
     "name": "stdout",
     "output_type": "stream",
     "text": [
      "Lorem ipsum dolor sit amet,\n",
      "consectetur adipiscing elit,\n",
      "sed do eiusmod tempor incididunt\n",
      "ut labore et dolore magna aliqua.\n",
      "\n",
      "Lorem ipsum dolor sit amet,\n",
      "consectetur adipiscing elit,\n",
      "sed do eiusmod tempor incididunt\n",
      "ut labore et dolore magna aliqua.\n"
     ]
    }
   ],
   "source": [
    "print(a)\n",
    "print()\n",
    "print(b)"
   ]
  },
  {
   "cell_type": "markdown",
   "metadata": {},
   "source": [
    "### **Booleans**\n",
    "In programming you often need to know if an expression is True or False.\n",
    "\n",
    "You can evaluate any expression in Python, and get one of two answers, True or False.\n",
    "\n",
    "When you compare two values, the expression is evaluated and Python returns the Boolean answer:"
   ]
  },
  {
   "cell_type": "code",
   "execution_count": 21,
   "metadata": {},
   "outputs": [
    {
     "name": "stdout",
     "output_type": "stream",
     "text": [
      "True\n",
      "True\n",
      "False\n"
     ]
    }
   ],
   "source": [
    "print(10 > 9)\n",
    "print(0 == False)\n",
    "print(10 < 9)"
   ]
  },
  {
   "cell_type": "code",
   "execution_count": 22,
   "metadata": {},
   "outputs": [
    {
     "name": "stdout",
     "output_type": "stream",
     "text": [
      "b is greater than a\n"
     ]
    }
   ],
   "source": [
    "# Use case of booleans\n",
    "a = 2\n",
    "b = 5\n",
    "\n",
    "if b > a:\n",
    "  print(\"b is greater than a\")\n",
    "else:\n",
    "  print(\"b is not greater than a\")"
   ]
  },
  {
   "cell_type": "code",
   "execution_count": 23,
   "metadata": {},
   "outputs": [
    {
     "name": "stdout",
     "output_type": "stream",
     "text": [
      "different person\n"
     ]
    }
   ],
   "source": [
    "a = 'rudy'\n",
    "b = 'Rudy'\n",
    "\n",
    "if a == b:\n",
    "    print('same person')\n",
    "else:\n",
    "    print('different person')"
   ]
  },
  {
   "cell_type": "markdown",
   "metadata": {},
   "source": [
    "### **Python Casting**"
   ]
  },
  {
   "cell_type": "markdown",
   "metadata": {},
   "source": [
    "There may be times when you want to specify a type on to a variable. This can be done with casting. Python is an object-orientated language, and as such it uses classes to define data types, including its primitive types.\n",
    "\n",
    "Casting in python is therefore done using constructor functions:\n",
    "\n",
    "- `int()` - constructs an integer number from an integer literal, a float literal (by removing all decimals), or a string literal (providing the string represents a whole number)\n",
    "- `float()` - constructs a float number from an integer literal, a float literal or a string literal (providing the string represents a float or an integer)\n",
    "- `str()` - constructs a string from a wide variety of data types, including strings, integer literals and float literals"
   ]
  },
  {
   "cell_type": "code",
   "execution_count": 24,
   "metadata": {},
   "outputs": [],
   "source": [
    "x = int(1)   # x will be 1\n",
    "y = int(2.8) # y will be 2\n",
    "z = int(\"3\") # z will be 3"
   ]
  },
  {
   "cell_type": "code",
   "execution_count": 25,
   "metadata": {},
   "outputs": [
    {
     "name": "stdout",
     "output_type": "stream",
     "text": [
      "2\n"
     ]
    },
    {
     "data": {
      "text/plain": [
       "int"
      ]
     },
     "execution_count": 25,
     "metadata": {},
     "output_type": "execute_result"
    }
   ],
   "source": [
    "print(y)\n",
    "type(y)"
   ]
  },
  {
   "cell_type": "code",
   "execution_count": 26,
   "metadata": {},
   "outputs": [],
   "source": [
    "x = float(1)     # x will be 1.0\n",
    "y = float(2.8)   # y will be 2.8\n",
    "z = float(\"3\")   # z will be 3.0\n",
    "w = float(\"4.2\") # w will be 4.2"
   ]
  },
  {
   "cell_type": "code",
   "execution_count": 27,
   "metadata": {},
   "outputs": [
    {
     "name": "stdout",
     "output_type": "stream",
     "text": [
      "3.0\n"
     ]
    }
   ],
   "source": [
    "print(z)"
   ]
  },
  {
   "cell_type": "code",
   "execution_count": 28,
   "metadata": {},
   "outputs": [],
   "source": [
    "x = str(\"s1\") # x will be 's1'\n",
    "y = str(2)    # y will be '2'\n",
    "z = str(3.0)  # z will be '3.0'"
   ]
  },
  {
   "cell_type": "markdown",
   "metadata": {},
   "source": [
    "### **Operators and Expression in Python**"
   ]
  },
  {
   "cell_type": "code",
   "execution_count": 29,
   "metadata": {},
   "outputs": [
    {
     "data": {
      "text/plain": [
       "30"
      ]
     },
     "execution_count": 29,
     "metadata": {},
     "output_type": "execute_result"
    }
   ],
   "source": [
    "a = 10\n",
    "b = 20\n",
    "a + b"
   ]
  },
  {
   "cell_type": "code",
   "execution_count": 30,
   "metadata": {},
   "outputs": [
    {
     "data": {
      "text/plain": [
       "25"
      ]
     },
     "execution_count": 30,
     "metadata": {},
     "output_type": "execute_result"
    }
   ],
   "source": [
    "a = 10\n",
    "b = 20\n",
    "a + b - 5"
   ]
  },
  {
   "cell_type": "code",
   "execution_count": 31,
   "metadata": {},
   "outputs": [
    {
     "name": "stdout",
     "output_type": "stream",
     "text": [
      "10\n",
      "4\n",
      "21\n",
      "2.3333333333333335\n",
      "1\n",
      "2\n",
      "343\n"
     ]
    }
   ],
   "source": [
    "# Here are some examples of these operators in use:\n",
    "\n",
    "a = 7\n",
    "b = 3\n",
    "\n",
    "print(a + b)\n",
    "print(a - b)\n",
    "print(a * b)\n",
    "print(a / b)\n",
    "print(a % b)\n",
    "print(a // b)\n",
    "print(a ** b)"
   ]
  },
  {
   "cell_type": "markdown",
   "metadata": {},
   "source": [
    "### **Comparison Operators**"
   ]
  },
  {
   "cell_type": "code",
   "execution_count": 32,
   "metadata": {},
   "outputs": [
    {
     "name": "stdout",
     "output_type": "stream",
     "text": [
      "False\n",
      "True\n",
      "True\n",
      "False\n"
     ]
    }
   ],
   "source": [
    "# Here are examples of the comparison operators in use:\n",
    "a = 10\n",
    "b = 20\n",
    "\n",
    "print(a == b) # equal\n",
    "\n",
    "print(a != b) # is not equal\n",
    "\n",
    "print(a < b) # Less than\n",
    "\n",
    "print(a >= b) # more than equal"
   ]
  },
  {
   "cell_type": "code",
   "execution_count": 33,
   "metadata": {},
   "outputs": [
    {
     "name": "stdout",
     "output_type": "stream",
     "text": [
      "True\n",
      "True\n",
      "True\n"
     ]
    }
   ],
   "source": [
    "a = 30\n",
    "b = 30\n",
    "\n",
    "print(a == b)\n",
    "\n",
    "print(a <= b)\n",
    "\n",
    "print(a >= b)"
   ]
  },
  {
   "cell_type": "markdown",
   "metadata": {},
   "source": [
    "### **String Manipulation**"
   ]
  },
  {
   "cell_type": "code",
   "execution_count": 1,
   "metadata": {},
   "outputs": [
    {
     "name": "stdout",
     "output_type": "stream",
     "text": [
      "foo bar\n",
      "foobarbaz\n",
      "Makmur Indonesia\n"
     ]
    }
   ],
   "source": [
    "# + Operators\n",
    "s = 'foo'\n",
    "t = 'bar'\n",
    "u = 'baz'\n",
    "\n",
    "print(s +\" \"+t)\n",
    "\n",
    "print(s + t + u)\n",
    "\n",
    "print('Makmur ' + 'Indonesia')"
   ]
  },
  {
   "cell_type": "code",
   "execution_count": 35,
   "metadata": {},
   "outputs": [
    {
     "data": {
      "text/plain": [
       "'foo.foo.foo.foo.'"
      ]
     },
     "execution_count": 35,
     "metadata": {},
     "output_type": "execute_result"
    }
   ],
   "source": [
    "# * Operators\n",
    "\n",
    "s = 'foo.'\n",
    "\n",
    "s * 4"
   ]
  },
  {
   "cell_type": "code",
   "execution_count": 36,
   "metadata": {},
   "outputs": [
    {
     "name": "stdout",
     "output_type": "stream",
     "text": [
      "True\n",
      "False\n"
     ]
    }
   ],
   "source": [
    "# in Operators\n",
    "\n",
    "s = 'foo'\n",
    "\n",
    "print(s in 'That food for us')\n",
    "\n",
    "print(s in 'That good for us')"
   ]
  },
  {
   "cell_type": "code",
   "execution_count": 2,
   "metadata": {},
   "outputs": [
    {
     "name": "stdout",
     "output_type": "stream",
     "text": [
      "Makmur indonesia\n",
      "makmur indonesia\n",
      "MAKmur INDONESIA\n",
      "Makmur Indonesia\n",
      "MAKMUR INDONESIA\n"
     ]
    }
   ],
   "source": [
    "# Case Conversion\n",
    "s = 'makMUR indonesia'\n",
    "\n",
    "# Capitalize\n",
    "print(s.capitalize())\n",
    "\n",
    "# Lower\n",
    "print(s.lower())\n",
    "\n",
    "# Swapcase\n",
    "print(s.swapcase())\n",
    "\n",
    "# Title\n",
    "print(s.title())\n",
    "\n",
    "# Uppercase\n",
    "print(s.upper())"
   ]
  },
  {
   "cell_type": "markdown",
   "metadata": {},
   "source": [
    "### **List**"
   ]
  },
  {
   "cell_type": "markdown",
   "metadata": {},
   "source": [
    "The most commonly used Composite Data Structure in Python is a `list`. `List` is a place to store data that has a sequence. Data can be anything from strings, numbers or other data types.\n",
    "\n",
    "A `list` in Python is represented by square brackets `[ ]`"
   ]
  },
  {
   "cell_type": "markdown",
   "metadata": {},
   "source": [
    "Suppose we need to record the ages of 5 students. <br>\n",
    "Instead of creating 5 separate variables,\n",
    "```python\n",
    "student1 = 17\n",
    "student2 = 18\n",
    "student3 = 15\n",
    "student4 = 19\n",
    "student5 = 14\n",
    "```\n",
    "\n",
    "we can simply create a list.\n",
    "```python\n",
    "studentsAge = [17, 18, 15, 19, 14]\n",
    "```\n",
    "\n"
   ]
  },
  {
   "cell_type": "markdown",
   "metadata": {},
   "source": [
    "![image](https://encrypted-tbn0.gstatic.com/images?q=tbn:ANd9GcT4BCAtDUhiCt9P_ThxWZh21z3rCZ0GNK-7tA&usqp=CAU)"
   ]
  },
  {
   "cell_type": "markdown",
   "metadata": {},
   "source": [
    "A list can :\n",
    "- store elements of different types (integer, float, string, etc.)\n",
    "- store duplicate elements\n",
    "\n",
    "```python\n",
    "# list with elements of different data types\n",
    "list1 = [1, \"Hello\", 3.4]\n",
    "\n",
    "# list with duplicate elements\n",
    "list1 = [1, \"Hello\", 3.4, \"Hello\", 1]\n",
    "\n",
    "# empty list\n",
    "list3 = []\n",
    "```"
   ]
  },
  {
   "cell_type": "markdown",
   "metadata": {},
   "source": [
    "In Python, lists are ordered and each item in a list is associated with a number. The number is known as a list index.\n",
    "\n",
    "The index of the first element is 0, second element is 1 and so on.\n",
    "\n",
    "![image.png](https://prepbytes-misc-images.s3.ap-south-1.amazonaws.com/assets/1671778764801-list%20program%20in%20python2.png)"
   ]
  },
  {
   "cell_type": "markdown",
   "metadata": {},
   "source": [
    "Python allows negative indexing for its sequences. The index of -1 refers to the last item, -2 to the second last item and so on.\n",
    "\n",
    "![image.png](https://prepbytes-misc-images.s3.ap-south-1.amazonaws.com/assets/1671778764802-list%20program%20in%20python3.png)"
   ]
  },
  {
   "cell_type": "code",
   "execution_count": 38,
   "metadata": {},
   "outputs": [
    {
     "name": "stdout",
     "output_type": "stream",
     "text": [
      "bambang\n"
     ]
    }
   ],
   "source": [
    "# Exercise\n",
    "names = ['agus', 'bambang', 'dwi']\n",
    "\n",
    "# print the name\n",
    "print(names[1])"
   ]
  },
  {
   "cell_type": "code",
   "execution_count": 39,
   "metadata": {},
   "outputs": [
    {
     "data": {
      "text/plain": [
       "False"
      ]
     },
     "execution_count": 39,
     "metadata": {},
     "output_type": "execute_result"
    }
   ],
   "source": [
    "# List are ordered\n",
    "a = ['foo', 'bar', 'baz', 'qux']\n",
    "b = ['baz', 'qux', 'bar', 'foo']\n",
    "\n",
    "a == b"
   ]
  },
  {
   "cell_type": "code",
   "execution_count": 40,
   "metadata": {},
   "outputs": [
    {
     "name": "stdout",
     "output_type": "stream",
     "text": [
      "['foo', 'bar', 'baz', 'qux']\n",
      "['foo', 'bar', 'baz', 'qux', 'grault', 'garply']\n",
      "['foo', 'bar', 'baz', 'qux', 'foo', 'bar', 'baz', 'qux']\n"
     ]
    }
   ],
   "source": [
    "# The concatenation (+) and replication (*) operators:\n",
    "\n",
    "print(a)\n",
    "\n",
    "print(a + ['grault', 'garply'])\n",
    "print(a * 2)"
   ]
  },
  {
   "cell_type": "code",
   "execution_count": 41,
   "metadata": {},
   "outputs": [
    {
     "name": "stdout",
     "output_type": "stream",
     "text": [
      "['foo', 'bar', 'baz', 'qux']\n",
      "4\n",
      "bar\n",
      "qux\n"
     ]
    }
   ],
   "source": [
    "# len(), min(), max()\n",
    "\n",
    "print(a)\n",
    "\n",
    "print(len(a))\n",
    "print(min(a))\n",
    "print(max(a))"
   ]
  },
  {
   "cell_type": "code",
   "execution_count": 2,
   "metadata": {},
   "outputs": [
    {
     "name": "stdout",
     "output_type": "stream",
     "text": [
      "[0, 2, 3]\n"
     ]
    }
   ],
   "source": [
    "my_list = [1, 2, 3]\n",
    "\n",
    "my_list[0] = 0\n",
    "print(my_list)"
   ]
  },
  {
   "cell_type": "markdown",
   "metadata": {},
   "source": [
    "**Slicing a List**\n",
    "\n",
    "In Python, it is possible to access a portion of a list using the slicing operator `:`. For example,"
   ]
  },
  {
   "cell_type": "markdown",
   "metadata": {},
   "source": [
    "[start_index : end_index(ekslusif) : step]"
   ]
  },
  {
   "cell_type": "code",
   "execution_count": 2,
   "metadata": {},
   "outputs": [
    {
     "name": "stdout",
     "output_type": "stream",
     "text": [
      "['bayu', 'agus', 'bambang', 'dwi']\n"
     ]
    }
   ],
   "source": [
    "# List slicing in Python\n",
    "my_friends = ['icha', 'lia', 'bayu', 'agus', 'bambang', \n",
    "              'dwi', 'septian', 'dika', 'nanta', 'shandi']\n",
    "\n",
    "\n",
    "# items from index 2 to index 5\n",
    "print(my_friends[2:6])"
   ]
  },
  {
   "cell_type": "markdown",
   "metadata": {},
   "source": [
    "***Note***: When we slice lists, the start index is inclusive, but the end index is exclusive."
   ]
  },
  {
   "cell_type": "code",
   "execution_count": 3,
   "metadata": {},
   "outputs": [
    {
     "name": "stdout",
     "output_type": "stream",
     "text": [
      "['dwi', 'septian', 'dika', 'nanta', 'shandi']\n"
     ]
    }
   ],
   "source": [
    "# items from index 5 to end\n",
    "print(my_friends[5:])"
   ]
  },
  {
   "cell_type": "code",
   "execution_count": 5,
   "metadata": {},
   "outputs": [
    {
     "name": "stdout",
     "output_type": "stream",
     "text": [
      "['icha', 'lia', 'bayu', 'agus', 'bambang', 'dwi', 'septian', 'dika', 'nanta', 'shandi']\n"
     ]
    }
   ],
   "source": [
    "# items beginning to end\n",
    "print(my_friends[::])"
   ]
  },
  {
   "cell_type": "code",
   "execution_count": 45,
   "metadata": {},
   "outputs": [
    {
     "name": "stdout",
     "output_type": "stream",
     "text": [
      "['foo', 'bar', 'baz', 'qux', 'quux', 'corge']\n",
      "['foo', 'bar', 10, 'qux', 'quux', 20]\n"
     ]
    }
   ],
   "source": [
    "# Modifying a single list value\n",
    "a = ['foo', 'bar', 'baz', 'qux', 'quux', 'corge']\n",
    "\n",
    "print(a)\n",
    "\n",
    "a[2] = 10\n",
    "a[-1] = 20\n",
    "\n",
    "print(a)"
   ]
  },
  {
   "cell_type": "code",
   "execution_count": 46,
   "metadata": {},
   "outputs": [
    {
     "name": "stdout",
     "output_type": "stream",
     "text": [
      "['bar', 'baz', 'qux']\n",
      "['foo', 1.1, 2.2, 3.3, 4.4, 5.5, 'quux', 'corge']\n"
     ]
    }
   ],
   "source": [
    "# Modifying multiple list value\n",
    "a = ['foo', 'bar', 'baz', 'qux', 'quux', 'corge']\n",
    "\n",
    "print(a[1:4])\n",
    "\n",
    "a[1:4] = [1.1, 2.2, 3.3, 4.4, 5.5]\n",
    "\n",
    "print(a)"
   ]
  },
  {
   "cell_type": "markdown",
   "metadata": {},
   "source": [
    "**List Method**\n",
    "\n",
    "A method is a function that “belongs to” an object."
   ]
  },
  {
   "cell_type": "markdown",
   "metadata": {},
   "source": [
    "1. *append* method (Add an element)"
   ]
  },
  {
   "cell_type": "code",
   "execution_count": 47,
   "metadata": {},
   "outputs": [
    {
     "name": "stdout",
     "output_type": "stream",
     "text": [
      "Before Append: [21, 34, 54, 12]\n"
     ]
    }
   ],
   "source": [
    "numbers = [21, 34, 54, 12]\n",
    "\n",
    "print(\"Before Append:\", numbers)"
   ]
  },
  {
   "cell_type": "code",
   "execution_count": 48,
   "metadata": {},
   "outputs": [
    {
     "name": "stdout",
     "output_type": "stream",
     "text": [
      "[21, 34, 54, 12, 30]\n"
     ]
    }
   ],
   "source": [
    "numbers.append(30)\n",
    "\n",
    "print(numbers)"
   ]
  },
  {
   "cell_type": "markdown",
   "metadata": {},
   "source": [
    "2. *remove* method (Remove an element)"
   ]
  },
  {
   "cell_type": "code",
   "execution_count": 49,
   "metadata": {},
   "outputs": [],
   "source": [
    "languages = ['Python', 'Swift', 'C++', 'C', 'Java', 'Rust', 'R', 'Java']"
   ]
  },
  {
   "cell_type": "code",
   "execution_count": 50,
   "metadata": {},
   "outputs": [
    {
     "name": "stdout",
     "output_type": "stream",
     "text": [
      "['Python', 'Swift', 'C++', 'C', 'Rust', 'R', 'Java']\n"
     ]
    }
   ],
   "source": [
    "languages.remove('Java')\n",
    "\n",
    "print(languages)"
   ]
  },
  {
   "cell_type": "markdown",
   "metadata": {},
   "source": [
    "3. other methods\n",
    "\n",
    "| Method |\tDescription |\n",
    "|--------|--------------|\n",
    "| extend() | add all the items of an iterable to the end of the list |\n",
    "| insert() | inserts an item at the specified index |\n",
    "| remove() | removes item present at the given index|\n",
    "| pop() | returns and removes item present at the given index |\n",
    "| clear() | removes all items from the list |\n",
    "|index()|\treturns the index of the first matched item |\n",
    "|count()|\treturns the count of the specified item in the list |\n",
    "|sort()\t|sort the list in ascending/descending order |\n",
    "|reverse()|\treverses the item of the list |\n",
    "|copy()|\treturns the shallow copy of the list |"
   ]
  },
  {
   "cell_type": "code",
   "execution_count": 51,
   "metadata": {},
   "outputs": [],
   "source": [
    "# give method another example (please teach how to google it)"
   ]
  },
  {
   "cell_type": "markdown",
   "metadata": {},
   "source": [
    "### **Tuple**"
   ]
  },
  {
   "cell_type": "markdown",
   "metadata": {},
   "source": [
    "Tuples are used to store multiple items in a single variable.\n",
    "\n",
    "Tuple is one of 4 built-in data types in Python used to store collections of data, the other 3 are List, Set, and Dictionary, all with different qualities and usage.\n",
    "\n",
    "A tuple is a collection which is ordered and **unchangeable**.\n",
    "\n",
    "Tuples are written with round brackets."
   ]
  },
  {
   "cell_type": "code",
   "execution_count": 52,
   "metadata": {},
   "outputs": [
    {
     "name": "stdout",
     "output_type": "stream",
     "text": [
      "('apple', 'banana', 'cherry')\n"
     ]
    }
   ],
   "source": [
    "thistuple = (\"apple\", \"banana\", \"cherry\")\n",
    "print(thistuple)"
   ]
  },
  {
   "cell_type": "code",
   "execution_count": 53,
   "metadata": {},
   "outputs": [
    {
     "name": "stdout",
     "output_type": "stream",
     "text": [
      "apple\n",
      "cherry\n"
     ]
    }
   ],
   "source": [
    "\n",
    "print(thistuple[0])\n",
    "\n",
    "print(thistuple[-1])"
   ]
  },
  {
   "cell_type": "code",
   "execution_count": 54,
   "metadata": {},
   "outputs": [
    {
     "name": "stdout",
     "output_type": "stream",
     "text": [
      "<class 'tuple'>\n",
      "<class 'str'>\n"
     ]
    }
   ],
   "source": [
    "thistuple = (\"apple\",)\n",
    "print(type(thistuple))\n",
    "\n",
    "#NOT a tuple\n",
    "thistuple = (\"apple\")\n",
    "print(type(thistuple))"
   ]
  },
  {
   "cell_type": "code",
   "execution_count": 55,
   "metadata": {},
   "outputs": [
    {
     "data": {
      "text/plain": [
       "'foo'"
      ]
     },
     "execution_count": 55,
     "metadata": {},
     "output_type": "execute_result"
    }
   ],
   "source": [
    "# packing and unpacking\n",
    "\n",
    "(s1, s2, s3, s4) = ('foo', 'bar', 'baz', 'qux')\n",
    "\n",
    "s1"
   ]
  },
  {
   "cell_type": "code",
   "execution_count": 7,
   "metadata": {},
   "outputs": [
    {
     "name": "stdout",
     "output_type": "stream",
     "text": [
      "(1, 2, 3)\n"
     ]
    }
   ],
   "source": [
    "my_tuple = (1, 2, 3)\n",
    "\n",
    "# my_tuple.remove(2)  # akan error karena immutable\n",
    "# my_tuple[0] = 0 # akan error karena immutable\n",
    "print(my_tuple)"
   ]
  },
  {
   "cell_type": "markdown",
   "metadata": {},
   "source": [
    "### **Set**\n",
    "\n",
    "Sets are used to store multiple items in a single variable.\n",
    "\n",
    "Set is one of 4 built-in data types in Python used to store collections of data, the other 3 are List, Tuple, and Dictionary, all with different qualities and usage.\n",
    "\n",
    "A set is a collection which is unordered, unchangeable*, and unindexed."
   ]
  },
  {
   "cell_type": "code",
   "execution_count": 2,
   "metadata": {},
   "outputs": [
    {
     "name": "stdout",
     "output_type": "stream",
     "text": [
      "{'apple', 'banana', 'cherry'}\n"
     ]
    }
   ],
   "source": [
    "thisset = {\"apple\", \"banana\", \"cherry\"}\n",
    "print(thisset)"
   ]
  },
  {
   "cell_type": "code",
   "execution_count": 3,
   "metadata": {},
   "outputs": [
    {
     "name": "stdout",
     "output_type": "stream",
     "text": [
      "{'apple', 'banana', 'cherry'}\n"
     ]
    }
   ],
   "source": [
    "# Duplicates Not Allowed\n",
    "thisset = {\"apple\", \"banana\", \"cherry\", \"apple\"}\n",
    "\n",
    "print(thisset)"
   ]
  },
  {
   "cell_type": "code",
   "execution_count": 4,
   "metadata": {},
   "outputs": [
    {
     "name": "stdout",
     "output_type": "stream",
     "text": [
      "{True, 'banana', 2, 'apple', 'cherry'}\n"
     ]
    }
   ],
   "source": [
    "# Case 1\n",
    "thisset = {\"apple\", \"banana\", \"cherry\", True, 1, 2}\n",
    "\n",
    "print(thisset)"
   ]
  },
  {
   "cell_type": "code",
   "execution_count": 59,
   "metadata": {},
   "outputs": [
    {
     "name": "stdout",
     "output_type": "stream",
     "text": [
      "{False, True, 'apple', 'cherry', 'banana'}\n"
     ]
    }
   ],
   "source": [
    "# Case 2\n",
    "thisset = {\"apple\", \"banana\", \"cherry\", False, True, 0}\n",
    "\n",
    "print(thisset)"
   ]
  },
  {
   "cell_type": "code",
   "execution_count": 1,
   "metadata": {},
   "outputs": [
    {
     "name": "stdout",
     "output_type": "stream",
     "text": [
      "{'banana', 'apple', 'lemon', 'orange'}\n",
      "{'banana', 'apple', 'lemon', 'orange'}\n",
      "{'banana', 'lemon', 'grape', 'orange', 'apple'}\n"
     ]
    }
   ],
   "source": [
    "fruits = {\"apple\", \"orange\", \"banana\"}\n",
    "\n",
    "fruits.add(\"lemon\")\n",
    "print(fruits)\n",
    "\n",
    "fruits.add(\"orange\")\n",
    "print(fruits)\n",
    "\n",
    "fruits.update({\"grape\", \"orange\"})\n",
    "print(fruits)"
   ]
  },
  {
   "cell_type": "code",
   "execution_count": 2,
   "metadata": {},
   "outputs": [
    {
     "name": "stdout",
     "output_type": "stream",
     "text": [
      "{'banana', 'lemon', 'grape', 'apple'}\n"
     ]
    }
   ],
   "source": [
    "fruits.remove(\"orange\")\n",
    "print(fruits)"
   ]
  },
  {
   "cell_type": "code",
   "execution_count": 12,
   "metadata": {},
   "outputs": [
    {
     "name": "stdout",
     "output_type": "stream",
     "text": [
      "{1, 2, 3, 4, 5, 6, 7, 8}\n",
      "{4, 5}\n",
      "{1, 2, 3}\n"
     ]
    }
   ],
   "source": [
    "set1 = {1, 2, 3, 4, 5}\n",
    "set2 = {4, 5, 6, 7, 8}\n",
    "\n",
    "# Union\n",
    "print(set1.union(set2))\n",
    "\n",
    "# Intersection\n",
    "print(set1.intersection(set2))\n",
    "\n",
    "# Difference\n",
    "print(set1.difference(set2))"
   ]
  },
  {
   "cell_type": "code",
   "execution_count": 14,
   "metadata": {},
   "outputs": [
    {
     "name": "stdout",
     "output_type": "stream",
     "text": [
      "frozenset({1, 2, 3, 4, 5})\n"
     ]
    },
    {
     "ename": "AttributeError",
     "evalue": "'frozenset' object has no attribute 'add'",
     "output_type": "error",
     "traceback": [
      "\u001b[1;31m---------------------------------------------------------------------------\u001b[0m",
      "\u001b[1;31mAttributeError\u001b[0m                            Traceback (most recent call last)",
      "Cell \u001b[1;32mIn[14], line 6\u001b[0m\n\u001b[0;32m      3\u001b[0m \u001b[38;5;28mprint\u001b[39m(my_frozenset)\n\u001b[0;32m      5\u001b[0m \u001b[38;5;66;03m# Mencoba menambahkan elemen ke frozenset\u001b[39;00m\n\u001b[1;32m----> 6\u001b[0m my_frozenset\u001b[38;5;241m.\u001b[39madd(\u001b[38;5;241m6\u001b[39m)  \u001b[38;5;66;03m# Ini akan menghasilkan error\u001b[39;00m\n\u001b[0;32m      8\u001b[0m \u001b[38;5;66;03m# Mencoba menghapus elemen dari frozenset\u001b[39;00m\n\u001b[0;32m      9\u001b[0m my_frozenset\u001b[38;5;241m.\u001b[39mremove(\u001b[38;5;241m1\u001b[39m)\n",
      "\u001b[1;31mAttributeError\u001b[0m: 'frozenset' object has no attribute 'add'"
     ]
    }
   ],
   "source": [
    "# Membuat frozenset\n",
    "my_frozenset = frozenset([1, 2, 3, 4, 5])\n",
    "print(my_frozenset)\n",
    "\n",
    "# Mencoba menambahkan elemen ke frozenset\n",
    "# my_frozenset.add(6)  # Ini akan menghasilkan error\n",
    "\n",
    "# Mencoba menghapus elemen dari frozenset\n",
    "my_frozenset.remove(1)  # Ini juga akan menghasilkan error"
   ]
  },
  {
   "cell_type": "code",
   "execution_count": 13,
   "metadata": {},
   "outputs": [
    {
     "name": "stdout",
     "output_type": "stream",
     "text": [
      "Grup pengguna frozenset({'User1', 'User3', 'User2'}) memiliki 120 interaksi.\n",
      "Grup pengguna frozenset({'User2', 'User4', 'User3'}) memiliki 150 interaksi.\n",
      "Grup pengguna frozenset({'User4', 'User3', 'User5'}) memiliki 100 interaksi.\n"
     ]
    }
   ],
   "source": [
    "# Membuat beberapa set pengguna\n",
    "user_set1 = {\"User1\", \"User2\", \"User3\"}\n",
    "user_set2 = {\"User2\", \"User3\", \"User4\"}\n",
    "user_set3 = {\"User3\", \"User4\", \"User5\"}\n",
    "\n",
    "# Mengubah set pengguna menjadi frozenset\n",
    "user_fset1 = frozenset(user_set1)\n",
    "user_fset2 = frozenset(user_set2)\n",
    "user_fset3 = frozenset(user_set3)\n",
    "\n",
    "# Membuat dictionary dengan frozenset sebagai kunci dan jumlah interaksi sebagai nilai\n",
    "interaction_dict = {user_fset1: 120, user_fset2: 150, user_fset3: 100}\n",
    "\n",
    "# Menampilkan jumlah interaksi untuk setiap grup pengguna\n",
    "for users, interactions in interaction_dict.items():\n",
    "    print(f\"Grup pengguna {users} memiliki {interactions} interaksi.\")"
   ]
  },
  {
   "cell_type": "markdown",
   "metadata": {},
   "source": [
    "### **Dictionary**"
   ]
  },
  {
   "cell_type": "markdown",
   "metadata": {},
   "source": [
    "Dictionaries and lists share the following characteristics:\n",
    "\n",
    "- Both are mutable.\n",
    "- Both are dynamic. They can grow and shrink as needed.\n",
    "- Both can be nested. A list can contain another list. A dictionary can contain another dictionary. A dictionary can also contain a list, and vice versa.\n",
    "\n",
    "Dictionaries differ from lists primarily in how elements are accessed:\n",
    "\n",
    "- List elements are accessed by their position in the list, via indexing.\n",
    "- Dictionary elements are accessed via keys."
   ]
  },
  {
   "cell_type": "markdown",
   "metadata": {},
   "source": [
    "![image.png](https://encrypted-tbn0.gstatic.com/images?q=tbn:ANd9GcS0Xn6nCgGELUVpN0ZFEsLNFRTv2gbIQunBiQ&usqp=CAU)"
   ]
  },
  {
   "cell_type": "code",
   "execution_count": 60,
   "metadata": {},
   "outputs": [
    {
     "name": "stdout",
     "output_type": "stream",
     "text": [
      "{'Brand': 'Ford', 'model': 'Mustang', 'year': 1964}\n"
     ]
    }
   ],
   "source": [
    "# Create a dictionary\n",
    "thisdict = {'Brand': \"Ford\",\n",
    "            \"model\": \"Mustang\",\n",
    "            \"year\": 1964}\n",
    "\n",
    "print(thisdict)"
   ]
  },
  {
   "cell_type": "code",
   "execution_count": 61,
   "metadata": {},
   "outputs": [
    {
     "name": "stdout",
     "output_type": "stream",
     "text": [
      "Ford\n"
     ]
    }
   ],
   "source": [
    "# Access the value\n",
    "thisdict = {\n",
    "  \"brand\": \"Ford\",\n",
    "  \"model\": \"Mustang\",\n",
    "  \"year\": 1964\n",
    "}\n",
    "\n",
    "# return the \"Ford\"\n",
    "print(thisdict['brand'])"
   ]
  },
  {
   "cell_type": "code",
   "execution_count": 62,
   "metadata": {},
   "outputs": [
    {
     "ename": "KeyError",
     "evalue": "''",
     "output_type": "error",
     "traceback": [
      "\u001b[1;31m---------------------------------------------------------------------------\u001b[0m",
      "\u001b[1;31mKeyError\u001b[0m                                  Traceback (most recent call last)",
      "Cell \u001b[1;32mIn[62], line 10\u001b[0m\n\u001b[0;32m      2\u001b[0m thisdict \u001b[38;5;241m=\u001b[39m {\n\u001b[0;32m      3\u001b[0m   \u001b[38;5;124m\"\u001b[39m\u001b[38;5;124mbrand\u001b[39m\u001b[38;5;124m\"\u001b[39m: \u001b[38;5;124m\"\u001b[39m\u001b[38;5;124mFord\u001b[39m\u001b[38;5;124m\"\u001b[39m,\n\u001b[0;32m      4\u001b[0m   \u001b[38;5;124m\"\u001b[39m\u001b[38;5;124mmodel\u001b[39m\u001b[38;5;124m\"\u001b[39m: \u001b[38;5;124m\"\u001b[39m\u001b[38;5;124mMustang\u001b[39m\u001b[38;5;124m\"\u001b[39m,\n\u001b[0;32m      5\u001b[0m   \u001b[38;5;124m\"\u001b[39m\u001b[38;5;124myear\u001b[39m\u001b[38;5;124m\"\u001b[39m: [\u001b[38;5;241m1964\u001b[39m, \u001b[38;5;241m2020\u001b[39m, \u001b[38;5;241m2024\u001b[39m],\n\u001b[0;32m      6\u001b[0m   \u001b[38;5;124m'\u001b[39m\u001b[38;5;124mBuyer\u001b[39m\u001b[38;5;124m'\u001b[39m: {\u001b[38;5;124m'\u001b[39m\u001b[38;5;124mname\u001b[39m\u001b[38;5;124m'\u001b[39m:\u001b[38;5;124m'\u001b[39m\u001b[38;5;124mRiki\u001b[39m\u001b[38;5;124m'\u001b[39m, \u001b[38;5;124m'\u001b[39m\u001b[38;5;124mJob\u001b[39m\u001b[38;5;124m'\u001b[39m:\u001b[38;5;124m'\u001b[39m\u001b[38;5;124mInstructor\u001b[39m\u001b[38;5;124m'\u001b[39m}\n\u001b[0;32m      7\u001b[0m }\n\u001b[0;32m      9\u001b[0m \u001b[38;5;66;03m# return the \"2020\" value\u001b[39;00m\n\u001b[1;32m---> 10\u001b[0m \u001b[38;5;28mprint\u001b[39m(thisdict[\u001b[38;5;124m'\u001b[39m\u001b[38;5;124m'\u001b[39m])\n",
      "\u001b[1;31mKeyError\u001b[0m: ''"
     ]
    }
   ],
   "source": [
    "# Duplicates key is not allowed\n",
    "thisdict = {\n",
    "  \"brand\": \"Ford\",\n",
    "  \"model\": \"Mustang\",\n",
    "  \"year\": [1964, 2020, 2024],\n",
    "  'Buyer': {'name':'Riki', 'Job':'Instructor'}\n",
    "}\n",
    "\n",
    "# return the \"2020\" value\n",
    "print(thisdict[''])"
   ]
  },
  {
   "cell_type": "code",
   "execution_count": null,
   "metadata": {},
   "outputs": [],
   "source": [
    "# Dictionary Items - Data Types\n",
    "thisdict = {\n",
    "  \"brand\": \"Ford\",\n",
    "  \"electric\": False,\n",
    "  \"year\": 1964,\n",
    "  \"colors\": [\"red\", \"white\", \"blue\"]\n",
    "}"
   ]
  },
  {
   "cell_type": "markdown",
   "metadata": {},
   "source": [
    "**Accesing Dictionary**"
   ]
  },
  {
   "cell_type": "code",
   "execution_count": null,
   "metadata": {},
   "outputs": [],
   "source": [
    "thisdict = {\n",
    "  \"brand\": \"Ford\",\n",
    "  \"model\": \"Mustang\",\n",
    "  \"year\": 1964\n",
    "}\n",
    "\n",
    "thisdict['year']\n",
    "\n",
    "# get the value and set into a variable\n",
    "var_tahun = thisdict['year']\n",
    "print(var_tahun)"
   ]
  },
  {
   "cell_type": "code",
   "execution_count": null,
   "metadata": {},
   "outputs": [],
   "source": [
    "# another way\n",
    "nama_brand = thisdict.get(\"model\")\n",
    "print(nama_brand)"
   ]
  },
  {
   "cell_type": "code",
   "execution_count": null,
   "metadata": {},
   "outputs": [],
   "source": [
    "# Get a list of the keys \n",
    "x = thisdict.keys()\n",
    "x"
   ]
  },
  {
   "cell_type": "code",
   "execution_count": null,
   "metadata": {},
   "outputs": [],
   "source": [
    "car = {\n",
    "\"brand\": \"Ford\",\n",
    "\"model\": \"Mustang\",\n",
    "\"year\": 1964\n",
    "}\n",
    "\n",
    "x = car.values()\n",
    "\n",
    "print(x) #before the change\n",
    "\n",
    "# Add new key and value\n",
    "car[\"color\"] = \"red\"\n",
    "\n",
    "print(car) #after the change\n",
    "\n",
    "# change the value\n",
    "car['color'] = 'yellow'\n",
    "print(car)"
   ]
  },
  {
   "cell_type": "markdown",
   "metadata": {},
   "source": [
    "**Get Items**"
   ]
  },
  {
   "cell_type": "markdown",
   "metadata": {},
   "source": [
    "The items() method will return each item in a dictionary, as tuples in a list.\n",
    "\n",
    "```python\n",
    "x = car.items()\n",
    "```"
   ]
  },
  {
   "cell_type": "code",
   "execution_count": null,
   "metadata": {},
   "outputs": [],
   "source": [
    "# Make a change in the original dictionary, \n",
    "# and see that the items list gets updated as well\n",
    "car = {\n",
    "\"brand\": \"Ford\",\n",
    "\"model\": \"Mustang\",\n",
    "\"year\": 1964\n",
    "}\n",
    "\n",
    "x = car.items()\n",
    "\n",
    "print(x) #before the change\n",
    "\n",
    "# car[\"year\"] = 2020\n",
    "\n",
    "# print(car) #after the change"
   ]
  },
  {
   "cell_type": "code",
   "execution_count": null,
   "metadata": {},
   "outputs": [],
   "source": [
    "car = {\n",
    "\"brand\": \"Ford\",\n",
    "\"model\": \"Mustang\",\n",
    "\"year\": 1964\n",
    "}\n",
    "\n",
    "x = car.items()\n",
    "\n",
    "print(x) #before the change\n",
    "\n",
    "car[\"color\"] = \"red\"\n",
    "\n",
    "print(x) #after the change"
   ]
  },
  {
   "cell_type": "code",
   "execution_count": 1,
   "metadata": {},
   "outputs": [
    {
     "name": "stdout",
     "output_type": "stream",
     "text": [
      "{'laptop': 20000000, 'hp': 15000000}\n"
     ]
    }
   ],
   "source": [
    "keranjang = {}\n",
    "keranjang['laptop'] = 20000000\n",
    "keranjang['hp'] = 15000000\n",
    "\n",
    "\n",
    "print(keranjang)"
   ]
  },
  {
   "cell_type": "markdown",
   "metadata": {},
   "source": [
    "### **Array**\n",
    "\n",
    "An array is a data structure that stores a collection of items. Each item in an array is accessed by its index. Arrays are useful when you want to store multiple items of the same type in a single variable."
   ]
  },
  {
   "cell_type": "code",
   "execution_count": 8,
   "metadata": {},
   "outputs": [
    {
     "name": "stdout",
     "output_type": "stream",
     "text": [
      "array('i', [1, 2, 3, 4, 5])\n"
     ]
    }
   ],
   "source": [
    "import array as arr\n",
    "\n",
    "my_array = arr.array('i', [1, 2, 3, 4, 5]) # `i` for integer\n",
    "print(my_array)"
   ]
  },
  {
   "cell_type": "code",
   "execution_count": 9,
   "metadata": {},
   "outputs": [
    {
     "name": "stdout",
     "output_type": "stream",
     "text": [
      "Original array:  array('i', [1, 2, 3, 4, 5])\n",
      "After appending a value:  array('i', [1, 2, 3, 4, 5, 6])\n",
      "After inserting a value:  array('i', [-3, 1, 2, 3, 4, 5, 6])\n",
      "After removing a value:  array('i', [-3, 1, 2, 3, 4, 6])\n",
      "After inserting a value:  array('i', [-3, 1, -9, 2, 3, 4, 6])\n"
     ]
    }
   ],
   "source": [
    "# Create an array\n",
    "numbers = arr.array('i', [1, 2, 3, 4, 5])\n",
    "print(\"Original array: \", numbers)\n",
    "\n",
    "# Append a value to the end of the array\n",
    "numbers.append(6)\n",
    "print(\"After appending a value: \", numbers)\n",
    "\n",
    "# Insert a value at a specific position\n",
    "numbers.insert(0, -3)\n",
    "print(\"After inserting a value: \", numbers)\n",
    "\n",
    "# Remove a value from the array\n",
    "numbers.remove(5)\n",
    "print(\"After removing a value: \", numbers)\n",
    "\n",
    "numbers.insert(2, -9)\n",
    "print(\"After inserting a value: \", numbers)"
   ]
  },
  {
   "cell_type": "code",
   "execution_count": 10,
   "metadata": {},
   "outputs": [
    {
     "name": "stdout",
     "output_type": "stream",
     "text": [
      "After reversing the array:  array('i', [6, 4, 3, 2, -9, 1, -3])\n",
      "The index of the first occurrence of 2:  3\n",
      "The number of occurrences of 2:  1\n"
     ]
    }
   ],
   "source": [
    "# Reverse the order of the array\n",
    "numbers.reverse()\n",
    "print(\"After reversing the array: \", numbers)\n",
    "\n",
    "# Get the index of the first occurrence of a value\n",
    "index = numbers.index(2)\n",
    "print(\"The index of the first occurrence of 2: \", index)\n",
    "\n",
    "# Count the number of occurrences of a value\n",
    "count = numbers.count(2)\n",
    "print(\"The number of occurrences of 2: \", count)"
   ]
  },
  {
   "cell_type": "code",
   "execution_count": 11,
   "metadata": {},
   "outputs": [
    {
     "name": "stdout",
     "output_type": "stream",
     "text": [
      "Addition:  [ 6  8 10 12]\n",
      "Subtraction:  [-4 -4 -4 -4]\n",
      "Multiplication:  [ 5 12 21 32]\n",
      "Division:  [0.2        0.33333333 0.42857143 0.5       ]\n",
      "Exponentiation:  [ 1  4  9 16]\n",
      "Modulus:  [1 2 3 4]\n"
     ]
    }
   ],
   "source": [
    "import numpy as np\n",
    "\n",
    "# Create two arrays\n",
    "a = np.array([1, 2, 3, 4])\n",
    "b = np.array([5, 6, 7, 8])\n",
    "\n",
    "# Addition\n",
    "addition = a + b\n",
    "print(\"Addition: \", addition)\n",
    "\n",
    "# Subtraction\n",
    "subtraction = a - b\n",
    "print(\"Subtraction: \", subtraction)\n",
    "\n",
    "# Multiplication\n",
    "multiplication = a * b\n",
    "print(\"Multiplication: \", multiplication)\n",
    "\n",
    "# Division\n",
    "division = a / b\n",
    "print(\"Division: \", division)\n",
    "\n",
    "# Exponentiation\n",
    "exponentiation = a ** 2\n",
    "print(\"Exponentiation: \", exponentiation)\n",
    "\n",
    "# Modulus\n",
    "modulus = a % b\n",
    "print(\"Modulus: \", modulus)"
   ]
  },
  {
   "cell_type": "markdown",
   "metadata": {},
   "source": [
    "#### **The Main Difference between Using `import array` and `import numpy`**\n",
    "Here is the explanation.\n",
    "- Arrays are **part of** the core Python programming, whereas NumPy is a **separate package** that needs to be installed.\n",
    "- NumPy arrays are **more versatile** than Python arrays. They can have any number of dimensions.\n",
    "- For **numerical computations**, NumPy arrays are **more efficient** and are preferred over Python arrays. \n",
    "- For other types of operations such as adding or removing elements, **Python's array module can be more efficient** due to being a built-in Python functionality."
   ]
  },
  {
   "cell_type": "markdown",
   "metadata": {},
   "source": [
    "### **Additional Math Operation**"
   ]
  },
  {
   "cell_type": "code",
   "execution_count": 8,
   "metadata": {},
   "outputs": [
    {
     "name": "stdout",
     "output_type": "stream",
     "text": [
      "2.5\n",
      "2\n",
      "3\n"
     ]
    }
   ],
   "source": [
    "a = 5\n",
    "b = 2\n",
    "\n",
    "print(a/b)\n",
    "\n",
    "print(a//b)\n",
    "\n",
    "print(a//b+1)"
   ]
  },
  {
   "cell_type": "code",
   "execution_count": 6,
   "metadata": {},
   "outputs": [
    {
     "name": "stdout",
     "output_type": "stream",
     "text": [
      "2\n",
      "3\n"
     ]
    }
   ],
   "source": [
    "import math\n",
    "\n",
    "print(math.floor(5/2))\n",
    "\n",
    "print(math.ceil(5/2))"
   ]
  },
  {
   "cell_type": "markdown",
   "metadata": {},
   "source": [
    "---\n",
    "## **Highlights**\n",
    "\n",
    "- **List** is a collection which is *ordered* and *changeable*. Allows *duplicate members.*\n",
    "- **Tuple** is a collection which is *ordered* and *unchangeable*. Allows *duplicate members*.\n",
    "- **Set** is a collection which is *unordered*, *changeable*, and *unindexed*. *No duplicate members*.\n",
    "- **Dictionary** is a collection which is *ordered* and *changeable*. No duplicate members."
   ]
  },
  {
   "cell_type": "markdown",
   "metadata": {},
   "source": []
  }
 ],
 "metadata": {
  "kernelspec": {
   "display_name": "Hacktiv8",
   "language": "python",
   "name": "python3"
  },
  "language_info": {
   "codemirror_mode": {
    "name": "ipython",
    "version": 3
   },
   "file_extension": ".py",
   "mimetype": "text/x-python",
   "name": "python",
   "nbconvert_exporter": "python",
   "pygments_lexer": "ipython3",
   "version": "3.12.2"
  }
 },
 "nbformat": 4,
 "nbformat_minor": 2
}
